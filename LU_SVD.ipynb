{
  "nbformat": 4,
  "nbformat_minor": 0,
  "metadata": {
    "colab": {
      "name": "LU_SVD.ipynb",
      "provenance": [],
      "authorship_tag": "ABX9TyNGbqo0Xf9rc+j14C38S2jt",
      "include_colab_link": true
    },
    "kernelspec": {
      "name": "python3",
      "display_name": "Python 3"
    },
    "language_info": {
      "name": "python"
    }
  },
  "cells": [
    {
      "cell_type": "markdown",
      "metadata": {
        "id": "view-in-github",
        "colab_type": "text"
      },
      "source": [
        "<a href=\"https://colab.research.google.com/github/ilyesBoukraa/LU_SVD_decomposition/blob/main/LU_SVD.ipynb\" target=\"_parent\"><img src=\"https://colab.research.google.com/assets/colab-badge.svg\" alt=\"Open In Colab\"/></a>"
      ]
    },
    {
      "cell_type": "markdown",
      "source": [
        "# Imports"
      ],
      "metadata": {
        "id": "74v4LKM9SKUB"
      }
    },
    {
      "cell_type": "code",
      "execution_count": 2,
      "metadata": {
        "id": "XgIU9gODRZ16"
      },
      "outputs": [],
      "source": [
        "import numpy as np\n",
        "import scipy.linalg as la \n",
        "from scipy.linalg import hessenberg\n",
        "import numpy.typing as npt\n",
        "from collections.abc import Iterable\n",
        "from typing import Union"
      ]
    },
    {
      "cell_type": "markdown",
      "source": [
        "# LU"
      ],
      "metadata": {
        "id": "gxsqFGq1RgHY"
      }
    },
    {
      "cell_type": "code",
      "source": [
        "# actually implemented PLU*\n",
        "class LuDecomposition():\n",
        "    def __init__(self)->None:\n",
        "        pass\n",
        "\n",
        "    def permutation_matrix(self, A:npt.NDArray[np.float64], identity_m:npt.NDArray[np.float64])->npt.NDArray[np.float64]:\n",
        "            matrix_m = np.copy(A)\n",
        "            n = len(A)\n",
        "\n",
        "            #identity_m = np.diag(np.ones((n)))\n",
        "            col_1 = matrix_m[0:n,0] \n",
        "\n",
        "            counter = 0\n",
        "            for i in range(n-1):\n",
        "                if( col_1[i] < col_1[i+1] and col_1[i]!=1 ):\n",
        "                    #identity_M[i], identity_M[i+1]  = identity_M[i+1] , identity_M[i]\n",
        "                    swap = np.copy(identity_m[0])\n",
        "                    identity_m[0] = identity_m[i+1]\n",
        "                    identity_m[i+1] = swap\n",
        "                    counter+=1\n",
        "\n",
        "            #print(identity_m)\n",
        "            return identity_m #, counter\n",
        "\n",
        "\n",
        "    # PLU\n",
        "    def LU_decomposition(self,matrix:npt.NDArray[np.float64])->None:\n",
        "        height,width = matrix.shape[:2]\n",
        "\n",
        "        # not a squared matrix\n",
        "        if(height != width ):\n",
        "            print(\"False not Squared matrix\")\n",
        "            return None\n",
        "\n",
        "        U = np.copy(matrix)\n",
        "        U = U.astype('float64')\n",
        "\n",
        "        L = np.identity(height , dtype = float)\n",
        "        #L = np.diag(np.ones((height)))\n",
        "        P = np.identity(height , dtype = float)\n",
        "        \n",
        "        # U upper\n",
        "        # L lower\n",
        "        #P = None\n",
        "        for i in range(height):\n",
        "            for j in range(i+1 , height):\n",
        "                #swapping_nbr = 0\n",
        "                #or (U[0:height,0][i] < U[0:height,0][i+1] )\n",
        "                #U[i][i] == 0  or\n",
        "                if( U[i][i] == 0  or (U[0:height,0][i] < U[0:height,0][i+1] )  ):\n",
        "                    #P , swapping_nbr\n",
        "                    P = self.permutation_matrix(U,P)\n",
        "                    U = P @ U\n",
        "                    \n",
        "                number = U[j][i] / U[i][i]\n",
        "\n",
        "                L[j][i] = number\n",
        "\n",
        "                U[j] =  U[j] - number * U[i]\n",
        "        \n",
        "        print('########---P---#######')\n",
        "        print(P)\n",
        "        \n",
        "        print('######---L---########')\n",
        "        print(L)\n",
        "    \n",
        "        \n",
        "        print('########---U---######')\n",
        "        print(U)\n",
        "        #return P,L, U \n"
      ],
      "metadata": {
        "id": "BjedprJbRfL2"
      },
      "execution_count": 3,
      "outputs": []
    },
    {
      "cell_type": "markdown",
      "source": [
        "# Testing The Results"
      ],
      "metadata": {
        "id": "fFp7jpj9RpqD"
      }
    },
    {
      "cell_type": "code",
      "source": [
        "np.random.seed(777)\n",
        "A = np.random.randint(0, high=10, size=(3,3))\n",
        "\n",
        "B = np.array([ [1,2,4],\n",
        "               [6,5,7],\n",
        "               [8,0,1] ])\n",
        "A"
      ],
      "metadata": {
        "colab": {
          "base_uri": "https://localhost:8080/"
        },
        "id": "GNmZusqkRe-7",
        "outputId": "909e4e12-4bc7-45ac-87df-71078067293d"
      },
      "execution_count": 4,
      "outputs": [
        {
          "output_type": "execute_result",
          "data": {
            "text/plain": [
              "array([[7, 6, 7],\n",
              "       [1, 7, 4],\n",
              "       [7, 9, 8]])"
            ]
          },
          "metadata": {},
          "execution_count": 4
        }
      ]
    },
    {
      "cell_type": "markdown",
      "source": [
        "## Using my version."
      ],
      "metadata": {
        "id": "TYH24iYISG5N"
      }
    },
    {
      "cell_type": "code",
      "source": [
        "TP = LuDecomposition()\n",
        "TP.LU_decomposition(A)"
      ],
      "metadata": {
        "colab": {
          "base_uri": "https://localhost:8080/"
        },
        "id": "8a2r0lCFRutr",
        "outputId": "47e957a6-e27b-44b7-83ef-1ccfe2978014"
      },
      "execution_count": 5,
      "outputs": [
        {
          "output_type": "stream",
          "name": "stdout",
          "text": [
            "########---P---#######\n",
            "[[1. 0. 0.]\n",
            " [0. 1. 0.]\n",
            " [0. 0. 1.]]\n",
            "######---L---########\n",
            "[[1.         0.         0.        ]\n",
            " [0.14285714 1.         0.        ]\n",
            " [1.         0.48837209 1.        ]]\n",
            "########---L---######\n",
            "[[ 7.          6.          7.        ]\n",
            " [ 0.          6.14285714  3.        ]\n",
            " [ 0.          0.         -0.46511628]]\n"
          ]
        }
      ]
    },
    {
      "cell_type": "markdown",
      "source": [
        "## Using Scipy version."
      ],
      "metadata": {
        "id": "vn14JtHfSAcD"
      }
    },
    {
      "cell_type": "code",
      "source": [
        "p1,l1,u1 = la.lu(A)\n",
        "print('----P----')\n",
        "print(p1)\n",
        "print('----L----')\n",
        "print(l1)\n",
        "print('----U----')\n",
        "print(u1)"
      ],
      "metadata": {
        "colab": {
          "base_uri": "https://localhost:8080/"
        },
        "id": "A6uXgaLARyFZ",
        "outputId": "10b486da-cd08-460a-e1be-2cdf070dec41"
      },
      "execution_count": 6,
      "outputs": [
        {
          "output_type": "stream",
          "name": "stdout",
          "text": [
            "----P----\n",
            "[[1. 0. 0.]\n",
            " [0. 1. 0.]\n",
            " [0. 0. 1.]]\n",
            "----L----\n",
            "[[1.         0.         0.        ]\n",
            " [0.14285714 1.         0.        ]\n",
            " [1.         0.48837209 1.        ]]\n",
            "----U----\n",
            "[[ 7.          6.          7.        ]\n",
            " [ 0.          6.14285714  3.        ]\n",
            " [ 0.          0.         -0.46511628]]\n"
          ]
        }
      ]
    },
    {
      "cell_type": "markdown",
      "source": [
        "# SVD"
      ],
      "metadata": {
        "id": "L-aQ7z5QSWYR"
      }
    },
    {
      "cell_type": "code",
      "source": [
        "class singular_value_decomposition():\n",
        "    def __init__(self)->None:\n",
        "        self.epsilon = 10**-8\n",
        "        self.precision = 10**-10\n",
        "        \n",
        "    def my_transpose(self ,matrix_or_vect:npt.NDArray[np.float64])->npt.NDArray[np.float64]:\n",
        "        transposed_M = np.copy(matrix_or_vect)\n",
        "        transposed_M_T = []\n",
        "        if( len(transposed_M.shape) == 2 ):\n",
        "            h,w = transposed_M.shape[:2] \n",
        "            \n",
        "            for j in range(w):\n",
        "                row = []\n",
        "                for i in range(h):\n",
        "                    row.append(transposed_M[i][j])\n",
        "                transposed_M_T.append(row)\n",
        "\n",
        "            transposed_M_T =np.array(transposed_M_T)\n",
        "        else:\n",
        "            h = transposed_M.shape[0]\n",
        "            transposed_M_T = np.zeros((1,h))\n",
        "            for i in range(h):\n",
        "                transposed_M_T[0,i] = transposed_M[i] \n",
        "\n",
        "        return transposed_M_T\n",
        "\n",
        "    def projection(self,x:npt.NDArray[np.float64], y:npt.NDArray[np.float64])-> float:\n",
        "        \n",
        "        denominator = self.my_transpose(y)@y\n",
        "        if(denominator == 0):\n",
        "            result = (self.my_transpose(x)@y) / ( denominator + self.epsilon )\n",
        "        else:\n",
        "            result = (self.my_transpose(x)@y) /  denominator\n",
        "        \n",
        "        return result\n",
        "\n",
        "\n",
        "    def q_matrix(self, matrix:npt.NDArray[np.float64])->npt.NDArray[np.float64]:\n",
        "        m = np.copy(matrix)\n",
        "        height , width = m.shape[:2]\n",
        "        Q = np.zeros(shape = (height,width) , dtype = float)  \n",
        "        \n",
        "        # q1 = v1\n",
        "        Q[0:height,0] = m[0:height,0]\n",
        "\n",
        "        for i in range(1,width):\n",
        "            vector = m[0:height,i]\n",
        "            q_i = vector\n",
        "            for j in range(i-1,-1,-1):\n",
        "                q_i =  q_i - self.projection( vector , Q[0:height,j] ) * Q[0:height,j] \n",
        "\n",
        "            Q[0:height,i] = q_i        \n",
        "\n",
        "        for i in range(width):\n",
        "            denominator = np.sqrt(( self.my_transpose(Q[0:height,i]) @ Q[0:height,i] ))\n",
        "            Q[0:height,i] = Q[0:height,i] / (denominator + self.epsilon) \n",
        "        \n",
        "        \n",
        "        return Q\n",
        "\n",
        "    def qr_decomposition(self,matrix:npt.NDArray[np.float64]):\n",
        "        A = np.copy(matrix)\n",
        "        A = A.astype('float')\n",
        "        Q = self.q_matrix(A)\n",
        "        R = self.my_transpose(Q) @ A\n",
        "        return Q,R\n",
        "\n",
        "\n",
        "    def eigen_values(self,my_matrix:npt.NDArray[np.float64], iterations=1_000, wilkinson=True, rayleigh=False)->npt.NDArray[np.float64]:\n",
        "        #A = np.copy(my_matrix)    \n",
        "        A = hessenberg(my_matrix)\n",
        "        height , width = A.shape[:2]\n",
        "        uk = 0\n",
        "        #past = A[height-1,height-1]\n",
        "        I =  np.identity(height, dtype = float)\n",
        "        \n",
        "        for i in range( int(iterations) ): \n",
        "            \n",
        "            past = A[0,0]\n",
        "            Q,R = self.qr_decomposition(A - uk * I)\n",
        "            A_hat = R@Q + uk * I\n",
        "            \n",
        "            ##############################\n",
        "            ######-wilkinson shift-#######\n",
        "            #############################\n",
        "            if(wilkinson):\n",
        "                B = np.copy(A[height-2:height,height-2:height])\n",
        "                eta = (B[0,0] - B[-1,-1]) /2\n",
        "               \n",
        "                eta_sign = 1\n",
        "                if(eta<0):\n",
        "                    eta_sign = -1\n",
        "                denominator = ( np.abs(eta) + np.sqrt(eta**2 + B[0,1]**2) ) \n",
        "                if(denominator!=0):\n",
        "                    uk = B[-1,-1] -  (eta_sign * B[0,1]**2)  / denominator \n",
        "                else:\n",
        "                    uk = B[-1,-1] -  (eta_sign * B[0,1]**2)  / (denominator +self.epsilon)\n",
        "            ##############################\n",
        "            ###-end of wilkinson shift-###\n",
        "            #############################\n",
        "            \n",
        "            \n",
        "            ##############################\n",
        "            ######-rayleigh shift-#######\n",
        "            #############################\n",
        "            if(rayleigh):\n",
        "                uk = Q[0:height,height-1].T @ A @Q[0:height,height-1] \n",
        "                \n",
        "            ##############################\n",
        "            ######-end of rayleigh shift-#######\n",
        "            ############################# \n",
        "            \n",
        "            A = A_hat\n",
        "            \n",
        "            now = A[0,0]\n",
        "            \n",
        "            error = np.abs( past - now )\n",
        "            #print(error)\n",
        "            #self.epsilon\n",
        "            if(error <= 10**-6 ):\n",
        "                print('stopped in the iteration: ',i)\n",
        "                break \n",
        "            \n",
        "        eigen_vals = []\n",
        "        for i in range(height):\n",
        "            value = A[i][i]\n",
        "            eigen_vals.append(value)\n",
        "        \n",
        "        eigen_vals = np.array(eigen_vals) \n",
        "        #eigen_vals = np.sort(eigen_vals)\n",
        "        eigen_vals = self.sorting(eigen_vals)\n",
        "        \n",
        "        return eigen_vals\n",
        "    \n",
        "    def sorting(self, my_array:npt.NDArray[np.float64])->npt.NDArray[np.float64]:\n",
        "        n = len(my_array)\n",
        "        for i in range(n):\n",
        "            for j in range(i+1,n):\n",
        "                if (my_array[i]<my_array[j]):\n",
        "                    my_array[i],my_array[j]=my_array[j],my_array[i]\n",
        "        \n",
        "        return my_array\n",
        "\n",
        "    def backward_substitution(self,Ri:npt.NDArray[np.float64]) -> npt.NDArray[np.float64]:\n",
        "        # Ax = b\n",
        "        # A.T Ax = A.Tb\n",
        "        # Rx = Q.T  b\n",
        "        # since b = 0\n",
        "        # Rx = 0\n",
        "        # R is upper triangular\n",
        "        # Find x\n",
        "        matrix = np.copy(Ri)\n",
        "\n",
        "        if(matrix[-1][-1] != 0):\n",
        "            matrix[-1] = matrix[-1] / matrix[-1][-1] \n",
        "        if(matrix[-1][-1] == 0):\n",
        "            matrix[-1][-1] = self.epsilon\n",
        "            matrix[-1] = matrix[-1] / matrix[-1][-1] \n",
        "            \n",
        "        n = len(matrix)\n",
        "        x = np.zeros(n)\n",
        "            \n",
        "        x[n-1] = matrix[n-1,n-1]          \n",
        "        for i in range(n-2,-1,-1):\n",
        "            if(matrix[i][i] != 0):\n",
        "                matrix[i,i:n] = matrix[i,i:n] /matrix[i][i]\n",
        "            \n",
        "            row = matrix[i,i:n]\n",
        "            x[i] = (-row @ x[i:n]) / (matrix[i][i] + self.epsilon) \n",
        "        \n",
        "        \n",
        "        return x    \n",
        "    \n",
        "    def normalized_vect(self,  vect:npt.NDArray[np.float64] )->npt.NDArray[np.float64]:        \n",
        "        denominator =  np.sqrt( np.sum(vect**2) )\n",
        "        if(denominator == 0):\n",
        "            normalized_v = vect / (denominator + self.epsilon)\n",
        "        else:\n",
        "            normalized_v = vect / (denominator )\n",
        "        \n",
        "        return normalized_v\n",
        "     \n",
        "    \n",
        "    def eigen_vectors(self, matrix:npt.NDArray[np.float64])->npt.NDArray[np.float64]:\n",
        "        A = np.copy(matrix)\n",
        "        height , width = A.shape[:2]\n",
        "        I = np.identity(height , dtype = float)\n",
        "        \n",
        "        eig_vals = self.eigen_values(A)\n",
        "        #eig_vals = np.linalg.eigvals(A)\n",
        "        vectors = []\n",
        "        b = np.zeros(height)\n",
        "        for i in range(len(eig_vals)):\n",
        "            lamda = eig_vals[i] \n",
        "            if(lamda<=self.epsilon):\n",
        "                lamda = 0\n",
        "                \n",
        "            new_matrix = A - lamda * I\n",
        "            #-- mystrious line --#\n",
        "        \n",
        "            _, Ri = self.qr_decomposition(new_matrix)\n",
        "            \n",
        "            #_, Ri = np.linalg.qr(new_matrix)\n",
        "            vect = self.backward_substitution(Ri)\n",
        "                \n",
        "            norm_vect = self.normalized_vect(vect)\n",
        "            vectors.append(norm_vect)\n",
        "            \n",
        "        \n",
        "        return self.my_transpose(np.array(vectors))\n",
        "                                 \n",
        "    def svd_decomposition(self, matrix:npt.NDArray[np.float64])->None:\n",
        "        C = np.copy(matrix) \n",
        "        C = C.astype('float64')\n",
        "        height, width = C.shape[:2]\n",
        "        \n",
        "        CTC = self.my_transpose(C) @ C\n",
        "        CCT = C @ self.my_transpose(C)\n",
        "        \n",
        "        eig_vals = self.eigen_values( CTC)\n",
        "        # putting the eigen values in the diagonal\n",
        "        sigma = np.eye(height,width) * np.sqrt( np.abs(eig_vals) )\n",
        "        \n",
        "        v_t = self.eigen_vectors( CTC )\n",
        "        v_t = self.my_transpose(v_t)\n",
        "        \n",
        "        u = self.eigen_vectors(CCT )\n",
        "        \n",
        "        print('########---U---##########')\n",
        "        print(u)\n",
        "        \n",
        "        print('######---Sigma---########')\n",
        "        print(sigma)\n",
        "    \n",
        "        \n",
        "        print('########---V.T---########')\n",
        "        print(v_t)\n",
        "    "
      ],
      "metadata": {
        "id": "C1uaJ_XjRyxJ"
      },
      "execution_count": 18,
      "outputs": []
    },
    {
      "cell_type": "markdown",
      "source": [
        "# Testing The Results"
      ],
      "metadata": {
        "id": "pxu5XgqOScR_"
      }
    },
    {
      "cell_type": "code",
      "source": [
        "np.random.seed(777)\n",
        "A = np.random.randint(0, high=10, size=(2,3))\n",
        "\n",
        "B = np.array([ [1,2,4],\n",
        "               [6,5,7],\n",
        "               [8,0,1] ])"
      ],
      "metadata": {
        "id": "zpheGjWXSalj"
      },
      "execution_count": 19,
      "outputs": []
    },
    {
      "cell_type": "code",
      "source": [
        "SVD = singular_value_decomposition()"
      ],
      "metadata": {
        "id": "pAyqTuy4TM1B"
      },
      "execution_count": 20,
      "outputs": []
    },
    {
      "cell_type": "markdown",
      "source": [
        "## Using my version."
      ],
      "metadata": {
        "id": "LsYrQ5LMT9C0"
      }
    },
    {
      "cell_type": "code",
      "source": [
        "%%time\n",
        "SVD.svd_decomposition(A)"
      ],
      "metadata": {
        "colab": {
          "base_uri": "https://localhost:8080/"
        },
        "id": "VYi5kR3dTMwn",
        "outputId": "2d3c90de-1f6f-4594-8877-f1f637ef9fd0"
      },
      "execution_count": 21,
      "outputs": [
        {
          "output_type": "stream",
          "name": "stdout",
          "text": [
            "stopped in the iteration:  4\n",
            "stopped in the iteration:  4\n",
            "stopped in the iteration:  2\n",
            "########---U---##########\n",
            "[[ 0.83783431 -0.54592459]\n",
            " [ 0.5459246   0.83783432]]\n",
            "######---Sigma---########\n",
            "[[13.57101477  0.          0.        ]\n",
            " [ 0.          3.97838634  0.        ]]\n",
            "########---V.T---########\n",
            "[[ 0.47238654  0.652013    0.5930683 ]\n",
            " [ 0.74996181 -0.65083992  0.11817226]\n",
            " [-0.46304237 -0.38895558  0.79643287]]\n",
            "CPU times: user 10 ms, sys: 0 ns, total: 10 ms\n",
            "Wall time: 12.5 ms\n"
          ]
        }
      ]
    },
    {
      "cell_type": "markdown",
      "source": [
        "## Using numpy version."
      ],
      "metadata": {
        "id": "JEuKzpF5UBpS"
      }
    },
    {
      "cell_type": "code",
      "source": [
        "%%time\n",
        "s,v,d = np.linalg.svd(A)\n",
        "print('---Numpy---')\n",
        "print('-----U-----')\n",
        "print(s)\n",
        "print('----Sigma-----')\n",
        "print(v)\n",
        "print('----V.T-----')\n",
        "print(d)"
      ],
      "metadata": {
        "colab": {
          "base_uri": "https://localhost:8080/"
        },
        "id": "PaftO5ceTQ4Z",
        "outputId": "61d479f2-2808-4afd-88e7-641f52dd3a7b"
      },
      "execution_count": 16,
      "outputs": [
        {
          "output_type": "stream",
          "name": "stdout",
          "text": [
            "---Numpy---\n",
            "-----U-----\n",
            "[[-0.83783432 -0.54592459]\n",
            " [-0.54592459  0.83783432]]\n",
            "----Sigma-----\n",
            "[13.57101478  3.97838635]\n",
            "----V.T-----\n",
            "[[-0.47238655 -0.652013   -0.59306829]\n",
            " [-0.74996181  0.65083992 -0.11817226]\n",
            " [-0.46304237 -0.38895559  0.79643287]]\n",
            "CPU times: user 3.86 ms, sys: 0 ns, total: 3.86 ms\n",
            "Wall time: 22 ms\n"
          ]
        }
      ]
    },
    {
      "cell_type": "markdown",
      "source": [
        "# Conclusions:\n",
        "\n",
        "1.   this algorithm perform very well, could not beat numpy in terms of accuracy neither in speed. \n",
        "2.   definetly needs some changes, i don't think that the shifts supposed to be implemented this way, also since U and V are computed seperatly this algorithm won't give always the best results..\n"
      ],
      "metadata": {
        "id": "oVWF0iuyULwp"
      }
    }
  ]
}
